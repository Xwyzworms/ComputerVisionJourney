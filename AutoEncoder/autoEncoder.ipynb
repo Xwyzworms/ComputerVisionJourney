{
 "cells": [
  {
   "cell_type": "code",
   "execution_count": null,
   "metadata": {},
   "outputs": [],
   "source": []
  },
  {
   "cell_type": "code",
   "execution_count": 1,
   "metadata": {},
   "outputs": [],
   "source": [
    "import numpy as np\r\n",
    "import matplotlib.pyplot as plt\r\n",
    "import tensorflow as tf\r\n",
    "import cv2"
   ]
  },
  {
   "cell_type": "code",
   "execution_count": 2,
   "metadata": {},
   "outputs": [],
   "source": [
    "(x_train, y_train ), (x_test,y_test) = tf.keras.datasets.mnist.load_data()"
   ]
  },
  {
   "cell_type": "code",
   "execution_count": 3,
   "metadata": {},
   "outputs": [],
   "source": [
    "x_train = x_train.reshape(len(x_train),28,28,1)\r\n",
    "x_test = x_test.reshape(len(x_test),28,28,1)"
   ]
  },
  {
   "cell_type": "code",
   "execution_count": 4,
   "metadata": {},
   "outputs": [
    {
     "data": {
      "text/plain": [
       "<matplotlib.image.AxesImage at 0x28aa6568cc0>"
      ]
     },
     "execution_count": 4,
     "metadata": {},
     "output_type": "execute_result"
    },
    {
     "data": {
      "image/png": "[encoded data removed]",
      "text/plain": [
       "<Figure size 432x288 with 1 Axes>"
      ]
     },
     "metadata": {
      "needs_background": "light"
     },
     "output_type": "display_data"
    }
   ],
   "source": [
    "plt.imshow(x_train[5], cmap=\"gray\")"
   ]
  },
  {
   "cell_type": "code",
   "execution_count": 5,
   "metadata": {},
   "outputs": [],
   "source": [
    "## Preprocessing \r\n",
    "x_train = x_train / 255.0\r\n",
    "x_test = x_test / 255.0"
   ]
  },
  {
   "cell_type": "code",
   "execution_count": 6,
   "metadata": {},
   "outputs": [
    {
     "data": {
      "text/plain": [
       "(60000, 28, 28, 1)"
      ]
     },
     "execution_count": 6,
     "metadata": {},
     "output_type": "execute_result"
    }
   ],
   "source": [
    "x_train.shape"
   ]
  },
  {
   "cell_type": "code",
   "execution_count": 7,
   "metadata": {},
   "outputs": [
    {
     "name": "stdout",
     "output_type": "stream",
     "text": [
      "Train on 54000 samples, validate on 6000 samples\n",
      "Epoch 1/10\n",
      "54000/54000 [==============================] - 4s 80us/sample - loss: 0.0231 - mean_squared_error: 0.0231 - val_loss: 0.0167 - val_mean_squared_error: 0.0167\n",
      "Epoch 2/10\n",
      "54000/54000 [==============================] - 4s 69us/sample - loss: 0.0158 - mean_squared_error: 0.0158 - val_loss: 0.0152 - val_mean_squared_error: 0.0152\n",
      "Epoch 3/10\n",
      "54000/54000 [==============================] - 4s 68us/sample - loss: 0.0148 - mean_squared_error: 0.0148 - val_loss: 0.0147 - val_mean_squared_error: 0.0147\n",
      "Epoch 4/10\n",
      "54000/54000 [==============================] - 4s 68us/sample - loss: 0.0144 - mean_squared_error: 0.0144 - val_loss: 0.0142 - val_mean_squared_error: 0.0142\n",
      "Epoch 5/10\n",
      "54000/54000 [==============================] - 4s 69us/sample - loss: 0.0141 - mean_squared_error: 0.0141 - val_loss: 0.0140 - val_mean_squared_error: 0.0140\n",
      "Epoch 6/10\n",
      "54000/54000 [==============================] - 4s 68us/sample - loss: 0.0138 - mean_squared_error: 0.0138 - val_loss: 0.0137 - val_mean_squared_error: 0.0137\n",
      "Epoch 7/10\n",
      "54000/54000 [==============================] - 4s 68us/sample - loss: 0.0136 - mean_squared_error: 0.0136 - val_loss: 0.0136 - val_mean_squared_error: 0.0136\n",
      "Epoch 8/10\n",
      "54000/54000 [==============================] - 4s 69us/sample - loss: 0.0135 - mean_squared_error: 0.0135 - val_loss: 0.0135 - val_mean_squared_error: 0.0135\n",
      "Epoch 9/10\n",
      "54000/54000 [==============================] - 4s 69us/sample - loss: 0.0134 - mean_squared_error: 0.0134 - val_loss: 0.0135 - val_mean_squared_error: 0.0135\n",
      "Epoch 10/10\n",
      "54000/54000 [==============================] - 4s 68us/sample - loss: 0.0133 - mean_squared_error: 0.0133 - val_loss: 0.0134 - val_mean_squared_error: 0.0134\n"
     ]
    },
    {
     "data": {
      "text/plain": [
       "<tensorflow.python.keras.callbacks.History at 0x28aa4142518>"
      ]
     },
     "execution_count": 7,
     "metadata": {},
     "output_type": "execute_result"
    }
   ],
   "source": [
    "from tensorflow.keras.utils import plot_model\r\n",
    "def simpleAutoEncoder():\r\n",
    "\tencoder_input = tf.keras.layers.Input(shape=(28,28,1),name=\"encoder_input\")\r\n",
    "\tnn = tf.keras.layers.Flatten()(encoder_input)\r\n",
    "\tnn = tf.keras.layers.Dense(256,activation=tf.nn.relu)(nn)\r\n",
    "\tencoder_output = tf.keras.layers.Dense(32,activation=tf.nn.relu,name=\"encoder_output\")(nn)\r\n",
    "\r\n",
    "\tdecoder_input = tf.keras.layers.Dense(784,activation=tf.nn.relu)(encoder_output)\r\n",
    "\tdecoder_output = tf.keras.layers.Reshape((28,28,1),name=\"decoder_output\")(decoder_input)\r\n",
    "\r\n",
    "\toptimizer = tf.keras.optimizers.Adam(lr = 0.001)\r\n",
    "\r\n",
    "\tautoEncoder = tf.keras.Model(inputs=[encoder_input],outputs=[decoder_output])\r\n",
    "\r\n",
    "\tautoEncoder.compile(optimizer=optimizer,loss=tf.keras.losses.mean_squared_error,metrics=[\"mean_squared_error\"])\r\n",
    "\treturn autoEncoder\r\n",
    "\r\n",
    "plot_model(simpleAutoEncoder())\r\n",
    "autoencoderModel = simpleAutoEncoder()\r\n",
    "autoencoderModel.fit(x_train,x_train,validation_split= 0.1,epochs=10,batch_size=32)"
   ]
  },
  {
   "cell_type": "code",
   "execution_count": 8,
   "metadata": {},
   "outputs": [
    {
     "name": "stdout",
     "output_type": "stream",
     "text": [
      "Condensed To 0.04081632653061224\n"
     ]
    }
   ],
   "source": [
    "\r\n",
    "print(f\"Condensed To {32 / 784}\")"
   ]
  },
  {
   "cell_type": "code",
   "execution_count": 9,
   "metadata": {},
   "outputs": [
    {
     "data": {
      "text/plain": [
       "<matplotlib.image.AxesImage at 0x28aa6638080>"
      ]
     },
     "execution_count": 9,
     "metadata": {},
     "output_type": "execute_result"
    },
    {
     "data": {
      "image/png": "[encoded data removed]",
      "text/plain": [
       "<Figure size 432x288 with 1 Axes>"
      ]
     },
     "metadata": {
      "needs_background": "light"
     },
     "output_type": "display_data"
    }
   ],
   "source": [
    "plt.imshow(autoencoderModel.predict(x_test[50].reshape(-1,28,28,1))[0],cmap=\"gray\")"
   ]
  },
  {
   "cell_type": "code",
   "execution_count": 14,
   "metadata": {},
   "outputs": [
    {
     "name": "stdout",
     "output_type": "stream",
     "text": [
      "(28, 28)\n",
      "(28, 28)\n"
     ]
    },
    {
     "data": {
      "text/plain": [
       "<matplotlib.image.AxesImage at 0x28ac122abe0>"
      ]
     },
     "execution_count": 14,
     "metadata": {},
     "output_type": "execute_result"
    },
    {
     "data": {
      "image/png": "[encoded data removed]",
      "text/plain": [
       "<Figure size 432x288 with 1 Axes>"
      ]
     },
     "metadata": {
      "needs_background": "light"
     },
     "output_type": "display_data"
    }
   ],
   "source": [
    "def add_noise(img):\r\n",
    "\tnoisy = []\r\n",
    "\tprint(img.shape)\r\n",
    "\tfor row in img:\r\n",
    "\t\tnew_pixel = []\t\r\n",
    "\t\tfor pixel in row:\r\n",
    "\t\t\tif np.random.choice( range(100)) <= 15:\r\n",
    "\t\t\t\tval = np.random.uniform(0, 1)\r\n",
    "\t\t\t\tnew_pixel.append(val)\r\n",
    "\t\t\telse :\r\n",
    "\t\t\t\tnew_pixel.append(pixel)\r\n",
    "\t\tnoisy.append(new_pixel)\r\n",
    "\tnoisy = np.array(noisy)\r\n",
    "\tprint(noisy.shape)\r\n",
    "\treturn noisy\r\n",
    "noise_sample = add_noise(x_test[50].reshape(28,28))\r\n",
    "plt.imshow(noise_sample,cmap=\"gray\")"
   ]
  },
  {
   "cell_type": "code",
   "execution_count": 15,
   "metadata": {},
   "outputs": [
    {
     "data": {
      "text/plain": [
       "<matplotlib.image.AxesImage at 0x28ac0af85c0>"
      ]
     },
     "execution_count": 15,
     "metadata": {},
     "output_type": "execute_result"
    },
    {
     "data": {
      "image/png": "[encoded data removed]",
      "text/plain": [
       "<Figure size 432x288 with 1 Axes>"
      ]
     },
     "metadata": {
      "needs_background": "light"
     },
     "output_type": "display_data"
    }
   ],
   "source": [
    "plt.imshow(autoencoderModel.predict(noise_sample.reshape(-1,28,28,1))[0],cmap=\"gray\")"
   ]
  },
  {
   "cell_type": "code",
   "execution_count": 39,
   "metadata": {},
   "outputs": [
    {
     "data": {
      "image/png": "[encoded data removed]",
      "text/plain": [
       "<Figure size 432x288 with 1 Axes>"
      ]
     },
     "metadata": {
      "needs_background": "light"
     },
     "output_type": "display_data"
    },
    {
     "data": {
      "image/png": "[encoded data removed]",
      "text/plain": [
       "<Figure size 432x288 with 1 Axes>"
      ]
     },
     "metadata": {
      "needs_background": "light"
     },
     "output_type": "display_data"
    },
    {
     "data": {
      "image/png": "[encoded data removed]",
      "text/plain": [
       "<Figure size 432x288 with 1 Axes>"
      ]
     },
     "metadata": {
      "needs_background": "light"
     },
     "output_type": "display_data"
    },
    {
     "data": {
      "image/png": "[encoded data removed]",
      "text/plain": [
       "<Figure size 432x288 with 1 Axes>"
      ]
     },
     "metadata": {
      "needs_background": "light"
     },
     "output_type": "display_data"
    },
    {
     "data": {
      "image/png": "[encoded data removed]",
      "text/plain": [
       "<Figure size 432x288 with 1 Axes>"
      ]
     },
     "metadata": {
      "needs_background": "light"
     },
     "output_type": "display_data"
    }
   ],
   "source": [
    "for i in range (5):\r\n",
    "\tplt.imshow(autoencoderModel.predict(np.random.normal(size=784).reshape(-1,28,28,1))[0])\r\n",
    "\tplt.show()"
   ]
  }
 ],
 "metadata": {
  "interpreter": {
   "hash": "81e8d6ec8b128683c3ce30ee758ecb536232cfad698fab650870c6728bfc659d"
  },
  "kernelspec": {
   "display_name": "Python 3.6.12 64-bit ('DataScience': conda)",
   "name": "python3"
  },
  "language_info": {
   "codemirror_mode": {
    "name": "ipython",
    "version": 3
   },
   "file_extension": ".py",
   "mimetype": "text/x-python",
   "name": "python",
   "nbconvert_exporter": "python",
   "pygments_lexer": "ipython3",
   "version": "3.6.12"
  },
  "orig_nbformat": 4
 },
 "nbformat": 4,
 "nbformat_minor": 2
}