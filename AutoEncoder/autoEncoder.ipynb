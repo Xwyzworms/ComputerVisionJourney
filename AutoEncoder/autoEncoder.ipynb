{
 "cells": [
  {
   "cell_type": "code",
   "execution_count": 2,
   "metadata": {},
   "outputs": [],
   "source": [
    "import numpy as np\r\n",
    "import matplotlib.pyplot as plt\r\n",
    "import tensorflow as tf\r\n",
    "import cv2"
   ]
  },
  {
   "cell_type": "code",
   "execution_count": 28,
   "metadata": {},
   "outputs": [],
   "source": [
    "(x_train, y_train ), (x_test,y_test) = tf.keras.datasets.mnist.load_data()"
   ]
  },
  {
   "cell_type": "code",
   "execution_count": 29,
   "metadata": {},
   "outputs": [],
   "source": [
    "x_train = x_train.reshape(len(x_train),28,28,1)\r\n",
    "x_test = x_test.reshape(len(x_test),28,28,1)"
   ]
  },
  {
   "cell_type": "code",
   "execution_count": 31,
   "metadata": {},
   "outputs": [
    {
     "data": {
      "text/plain": [
       "<matplotlib.image.AxesImage at 0x23602d2b710>"
      ]
     },
     "execution_count": 31,
     "metadata": {},
     "output_type": "execute_result"
    },
    {
     "data": {
      "image/png": "[encoded data removed]",
      "text/plain": [
       "<Figure size 432x288 with 1 Axes>"
      ]
     },
     "metadata": {
      "needs_background": "light"
     },
     "output_type": "display_data"
    }
   ],
   "source": [
    "plt.imshow(x_train[5], cmap=\"gray\")"
   ]
  },
  {
   "cell_type": "code",
   "execution_count": 32,
   "metadata": {},
   "outputs": [],
   "source": [
    "## Preprocessing \r\n",
    "x_train = x_train / 255.0\r\n",
    "x_test = x_test / 255.0"
   ]
  },
  {
   "cell_type": "code",
   "execution_count": 33,
   "metadata": {},
   "outputs": [
    {
     "data": {
      "text/plain": [
       "(60000, 28, 28, 1)"
      ]
     },
     "execution_count": 33,
     "metadata": {},
     "output_type": "execute_result"
    }
   ],
   "source": [
    "x_train.shape"
   ]
  },
  {
   "cell_type": "code",
   "execution_count": 34,
   "metadata": {},
   "outputs": [
    {
     "name": "stdout",
     "output_type": "stream",
     "text": [
      "Train on 54000 samples, validate on 6000 samples\n",
      "Epoch 1/10\n",
      "54000/54000 [==============================] - 6s 107us/sample - loss: 0.0150 - mean_squared_error: 0.0150 - val_loss: 0.0102 - val_mean_squared_error: 0.0102\n",
      "Epoch 2/10\n",
      "54000/54000 [==============================] - 5s 98us/sample - loss: 0.0095 - mean_squared_error: 0.0095 - val_loss: 0.0093 - val_mean_squared_error: 0.0093\n",
      "Epoch 3/10\n",
      "54000/54000 [==============================] - 5s 96us/sample - loss: 0.0089 - mean_squared_error: 0.0089 - val_loss: 0.0089 - val_mean_squared_error: 0.0089\n",
      "Epoch 4/10\n",
      "54000/54000 [==============================] - 5s 97us/sample - loss: 0.0087 - mean_squared_error: 0.0087 - val_loss: 0.0087 - val_mean_squared_error: 0.0087\n",
      "Epoch 5/10\n",
      "54000/54000 [==============================] - 5s 96us/sample - loss: 0.0085 - mean_squared_error: 0.0085 - val_loss: 0.0087 - val_mean_squared_error: 0.0087\n",
      "Epoch 6/10\n",
      "54000/54000 [==============================] - 5s 97us/sample - loss: 0.0085 - mean_squared_error: 0.0085 - val_loss: 0.0085 - val_mean_squared_error: 0.0085\n",
      "Epoch 7/10\n",
      "54000/54000 [==============================] - 5s 98us/sample - loss: 0.0084 - mean_squared_error: 0.0084 - val_loss: 0.0084 - val_mean_squared_error: 0.0084\n",
      "Epoch 8/10\n",
      "54000/54000 [==============================] - 5s 100us/sample - loss: 0.0083 - mean_squared_error: 0.0083 - val_loss: 0.0083 - val_mean_squared_error: 0.0083\n",
      "Epoch 9/10\n",
      "54000/54000 [==============================] - 5s 99us/sample - loss: 0.0083 - mean_squared_error: 0.0083 - val_loss: 0.0083 - val_mean_squared_error: 0.0083\n",
      "Epoch 10/10\n",
      "54000/54000 [==============================] - 6s 103us/sample - loss: 0.0083 - mean_squared_error: 0.0083 - val_loss: 0.0083 - val_mean_squared_error: 0.0083\n"
     ]
    },
    {
     "data": {
      "text/plain": [
       "<tensorflow.python.keras.callbacks.History at 0x23602e46978>"
      ]
     },
     "execution_count": 34,
     "metadata": {},
     "output_type": "execute_result"
    }
   ],
   "source": [
    "from tensorflow.keras.utils import plot_model\r\n",
    "def simpleAutoEncoder():\r\n",
    "\tencoder_input = tf.keras.layers.Input(shape=(28,28,1),name=\"encoder_input\")\r\n",
    "\tnn = tf.keras.layers.Flatten()(encoder_input)\r\n",
    "\tnn = tf.keras.layers.Dense(256,activation=tf.nn.relu)(nn)\r\n",
    "\tencoder_output = tf.keras.layers.Dense(128,activation=tf.nn.relu,name=\"encoder_output\")(nn)\r\n",
    "\r\n",
    "\tdecoder_input = tf.keras.layers.Dense(784,activation=tf.nn.relu)(encoder_output)\r\n",
    "\tdecoder_output = tf.keras.layers.Reshape((28,28,1),name=\"decoder_output\")(decoder_input)\r\n",
    "\r\n",
    "\toptimizer = tf.keras.optimizers.Adam(lr = 0.001)\r\n",
    "\r\n",
    "\tautoEncoder = tf.keras.Model(inputs=[encoder_input],outputs=[decoder_output])\r\n",
    "\r\n",
    "\tautoEncoder.compile(optimizer=optimizer,loss=tf.keras.losses.mean_squared_error,metrics=[\"mean_squared_error\"])\r\n",
    "\treturn autoEncoder\r\n",
    "\r\n",
    "plot_model(simpleAutoEncoder())\r\n",
    "autoencoderModel = simpleAutoEncoder()\r\n",
    "autoencoderModel.fit(x_train,x_train,validation_split= 0.1,epochs=10,batch_size=32)"
   ]
  },
  {
   "cell_type": "code",
   "execution_count": 46,
   "metadata": {},
   "outputs": [
    {
     "data": {
      "text/plain": [
       "<matplotlib.image.AxesImage at 0x2362f68c358>"
      ]
     },
     "execution_count": 46,
     "metadata": {},
     "output_type": "execute_result"
    },
    {
     "data": {
      "image/png": "[encoded data removed]",
      "text/plain": [
       "<Figure size 432x288 with 1 Axes>"
      ]
     },
     "metadata": {
      "needs_background": "light"
     },
     "output_type": "display_data"
    }
   ],
   "source": [
    "plt.imshow(autoencoderModel.predict(x_test[50].reshape(-1,28,28,1))[0],cmap=\"gray\")"
   ]
  },
  {
   "cell_type": "code",
   "execution_count": null,
   "metadata": {},
   "outputs": [],
   "source": []
  },
  {
   "cell_type": "code",
   "execution_count": null,
   "metadata": {},
   "outputs": [],
   "source": []
  }
 ],
 "metadata": {
  "interpreter": {
   "hash": "81e8d6ec8b128683c3ce30ee758ecb536232cfad698fab650870c6728bfc659d"
  },
  "kernelspec": {
   "display_name": "Python 3.6.12 64-bit ('DataScience': conda)",
   "name": "python3"
  },
  "language_info": {
   "codemirror_mode": {
    "name": "ipython",
    "version": 3
   },
   "file_extension": ".py",
   "mimetype": "text/x-python",
   "name": "python",
   "nbconvert_exporter": "python",
   "pygments_lexer": "ipython3",
   "version": "3.6.12"
  },
  "orig_nbformat": 4
 },
 "nbformat": 4,
 "nbformat_minor": 2
}