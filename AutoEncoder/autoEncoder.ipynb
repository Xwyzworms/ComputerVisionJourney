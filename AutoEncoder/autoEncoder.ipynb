{
 "cells": [
  {
   "cell_type": "code",
   "execution_count": null,
   "metadata": {},
   "outputs": [],
   "source": []
  },
  {
   "cell_type": "code",
   "execution_count": 1,
   "metadata": {},
   "outputs": [],
   "source": [
    "import numpy as np\r\n",
    "import matplotlib.pyplot as plt\r\n",
    "import tensorflow as tf\r\n",
    "import cv2"
   ]
  },
  {
   "cell_type": "code",
   "execution_count": 71,
   "metadata": {},
   "outputs": [],
   "source": [
    "(x_train, y_train ), (x_test,y_test) = tf.keras.datasets.mnist.load_data()\r\n",
    "(x_train3d,y_train3d),(x_test3d,y_test3d) = tf.keras.datasets.fashion_mnist.load_data()"
   ]
  },
  {
   "cell_type": "code",
   "execution_count": 73,
   "metadata": {},
   "outputs": [
    {
     "data": {
      "text/plain": [
       "(60000, 28, 28)"
      ]
     },
     "execution_count": 73,
     "metadata": {},
     "output_type": "execute_result"
    }
   ],
   "source": [
    "x_train3d.shape"
   ]
  },
  {
   "cell_type": "code",
   "execution_count": 3,
   "metadata": {},
   "outputs": [],
   "source": [
    "x_train = x_train.reshape(len(x_train),28,28,1)\r\n",
    "x_test = x_test.reshape(len(x_test),28,28,1)"
   ]
  },
  {
   "cell_type": "code",
   "execution_count": 4,
   "metadata": {},
   "outputs": [
    {
     "data": {
      "text/plain": [
       "<matplotlib.image.AxesImage at 0x28aa6568cc0>"
      ]
     },
     "execution_count": 4,
     "metadata": {},
     "output_type": "execute_result"
    },
    {
     "data": {
      "image/png": "[encoded data removed]",
      "text/plain": [
       "<Figure size 432x288 with 1 Axes>"
      ]
     },
     "metadata": {
      "needs_background": "light"
     },
     "output_type": "display_data"
    }
   ],
   "source": [
    "plt.imshow(x_train[5], cmap=\"gray\")"
   ]
  },
  {
   "cell_type": "code",
   "execution_count": 5,
   "metadata": {},
   "outputs": [],
   "source": [
    "## Preprocessing \r\n",
    "x_train = x_train / 255.0\r\n",
    "x_test = x_test / 255.0"
   ]
  },
  {
   "cell_type": "code",
   "execution_count": 6,
   "metadata": {},
   "outputs": [
    {
     "data": {
      "text/plain": [
       "(60000, 28, 28, 1)"
      ]
     },
     "execution_count": 6,
     "metadata": {},
     "output_type": "execute_result"
    }
   ],
   "source": [
    "x_train.shape"
   ]
  },
  {
   "cell_type": "code",
   "execution_count": 44,
   "metadata": {},
   "outputs": [
    {
     "name": "stdout",
     "output_type": "stream",
     "text": [
      "Train on 54000 samples, validate on 6000 samples\n",
      "Epoch 1/10\n",
      "54000/54000 [==============================] - 6s 103us/sample - loss: 0.0253 - mean_squared_error: 0.0253 - val_loss: 0.0192 - val_mean_squared_error: 0.0192\n",
      "Epoch 2/10\n",
      "54000/54000 [==============================] - 5s 89us/sample - loss: 0.0185 - mean_squared_error: 0.0185 - val_loss: 0.0178 - val_mean_squared_error: 0.0178\n",
      "Epoch 3/10\n",
      "54000/54000 [==============================] - 4s 79us/sample - loss: 0.0175 - mean_squared_error: 0.0175 - val_loss: 0.0172 - val_mean_squared_error: 0.0172\n",
      "Epoch 4/10\n",
      "54000/54000 [==============================] - 4s 75us/sample - loss: 0.0170 - mean_squared_error: 0.0170 - val_loss: 0.0168 - val_mean_squared_error: 0.0168\n",
      "Epoch 5/10\n",
      "54000/54000 [==============================] - 4s 73us/sample - loss: 0.0167 - mean_squared_error: 0.0167 - val_loss: 0.0167 - val_mean_squared_error: 0.0167\n",
      "Epoch 6/10\n",
      "54000/54000 [==============================] - 4s 76us/sample - loss: 0.0165 - mean_squared_error: 0.0165 - val_loss: 0.0164 - val_mean_squared_error: 0.0164\n",
      "Epoch 7/10\n",
      "54000/54000 [==============================] - 4s 76us/sample - loss: 0.0163 - mean_squared_error: 0.0163 - val_loss: 0.0163 - val_mean_squared_error: 0.0163\n",
      "Epoch 8/10\n",
      "54000/54000 [==============================] - 4s 76us/sample - loss: 0.0162 - mean_squared_error: 0.0162 - val_loss: 0.0164 - val_mean_squared_error: 0.0164\n",
      "Epoch 9/10\n",
      "54000/54000 [==============================] - 4s 75us/sample - loss: 0.0161 - mean_squared_error: 0.0161 - val_loss: 0.0162 - val_mean_squared_error: 0.0162\n",
      "Epoch 10/10\n",
      "54000/54000 [==============================] - 4s 77us/sample - loss: 0.0160 - mean_squared_error: 0.0160 - val_loss: 0.0161 - val_mean_squared_error: 0.0161\n"
     ]
    },
    {
     "data": {
      "text/plain": [
       "<tensorflow.python.keras.callbacks.History at 0x28ac5890860>"
      ]
     },
     "execution_count": 44,
     "metadata": {},
     "output_type": "execute_result"
    }
   ],
   "source": [
    "from tensorflow.keras.utils import plot_model\r\n",
    "def simpleAutoEncoder():\r\n",
    "\tencoder_input = tf.keras.layers.Input(shape=(28,28,1),name=\"encoder_input\")\r\n",
    "\tnn = tf.keras.layers.Flatten()(encoder_input)\r\n",
    "\tnn = tf.keras.layers.Dense(256,activation=tf.nn.relu)(nn)\r\n",
    "\tencoder_output = tf.keras.layers.Dense(32,activation=tf.nn.relu,name=\"encoder_output\")(nn)\r\n",
    "\r\n",
    "\r\n",
    "\tencoder = tf.keras.Model(encoder_input,encoder_output,name=\"encoder\")\r\n",
    "\r\n",
    "\tdecoder_input = tf.keras.layers.Dense(784,activation=tf.nn.relu)(encoder_output)\r\n",
    "\tdecoder_output = tf.keras.layers.Reshape((28,28,1),name=\"decoder_output\")(decoder_input)\r\n",
    "\r\n",
    "\toptimizer = tf.keras.optimizers.Adam(lr = 0.001)\r\n",
    "\r\n",
    "\tautoEncoder = tf.keras.Model(inputs=[encoder_input],outputs=[decoder_output])\r\n",
    "\r\n",
    "\tautoEncoder.compile(optimizer=optimizer,loss=tf.keras.losses.mean_squared_error,metrics=[\"mean_squared_error\"])\r\n",
    "\treturn autoEncoder,encoder\r\n",
    "\r\n",
    "plot_model(simpleAutoEncoder()[0])\r\n",
    "autoencoderModel,encoder = simpleAutoEncoder()\r\n",
    "autoencoderModel.fit(x_train,x_train,validation_split= 0.1,epochs=10,batch_size=32)"
   ]
  },
  {
   "cell_type": "code",
   "execution_count": 45,
   "metadata": {},
   "outputs": [
    {
     "data": {
      "text/plain": [
       "<tensorflow.python.keras.engine.training.Model at 0x28ac47417b8>"
      ]
     },
     "execution_count": 45,
     "metadata": {},
     "output_type": "execute_result"
    }
   ],
   "source": []
  },
  {
   "cell_type": "code",
   "execution_count": 8,
   "metadata": {},
   "outputs": [
    {
     "name": "stdout",
     "output_type": "stream",
     "text": [
      "Condensed To 0.04081632653061224\n"
     ]
    }
   ],
   "source": [
    "\r\n",
    "print(f\"Condensed To {32 / 784}\")"
   ]
  },
  {
   "cell_type": "code",
   "execution_count": 47,
   "metadata": {},
   "outputs": [
    {
     "data": {
      "text/plain": [
       "<matplotlib.image.AxesImage at 0x28ac3b3d898>"
      ]
     },
     "execution_count": 47,
     "metadata": {},
     "output_type": "execute_result"
    },
    {
     "data": {
      "image/png": "[encoded data removed]",
      "text/plain": [
       "<Figure size 432x288 with 1 Axes>"
      ]
     },
     "metadata": {
      "needs_background": "light"
     },
     "output_type": "display_data"
    }
   ],
   "source": [
    "plt.imshow(autoencoderModel.predict(x_test[50].reshape(-1,28,28,1))[0],cmap=\"gray\")"
   ]
  },
  {
   "cell_type": "code",
   "execution_count": 14,
   "metadata": {},
   "outputs": [
    {
     "name": "stdout",
     "output_type": "stream",
     "text": [
      "(28, 28)\n",
      "(28, 28)\n"
     ]
    },
    {
     "data": {
      "text/plain": [
       "<matplotlib.image.AxesImage at 0x28ac122abe0>"
      ]
     },
     "execution_count": 14,
     "metadata": {},
     "output_type": "execute_result"
    },
    {
     "data": {
      "image/png": "[encoded data removed]",
      "text/plain": [
       "<Figure size 432x288 with 1 Axes>"
      ]
     },
     "metadata": {
      "needs_background": "light"
     },
     "output_type": "display_data"
    }
   ],
   "source": [
    "def add_noise(img):\r\n",
    "\tnoisy = []\r\n",
    "\tprint(img.shape)\r\n",
    "\tfor row in img:\r\n",
    "\t\tnew_pixel = []\t\r\n",
    "\t\tfor pixel in row:\r\n",
    "\t\t\tif np.random.choice( range(100)) <= 15:\r\n",
    "\t\t\t\tval = np.random.uniform(0, 1)\r\n",
    "\t\t\t\tnew_pixel.append(val)\r\n",
    "\t\t\telse :\r\n",
    "\t\t\t\tnew_pixel.append(pixel)\r\n",
    "\t\tnoisy.append(new_pixel)\r\n",
    "\tnoisy = np.array(noisy)\r\n",
    "\tprint(noisy.shape)\r\n",
    "\treturn noisy\r\n",
    "noise_sample = add_noise(x_test[50].reshape(28,28))\r\n",
    "plt.imshow(noise_sample,cmap=\"gray\")"
   ]
  },
  {
   "cell_type": "code",
   "execution_count": 49,
   "metadata": {},
   "outputs": [
    {
     "data": {
      "text/plain": [
       "<matplotlib.image.AxesImage at 0x28ac3a67908>"
      ]
     },
     "execution_count": 49,
     "metadata": {},
     "output_type": "execute_result"
    },
    {
     "data": {
      "image/png": "[encoded data removed]",
      "text/plain": [
       "<Figure size 432x288 with 1 Axes>"
      ]
     },
     "metadata": {
      "needs_background": "light"
     },
     "output_type": "display_data"
    }
   ],
   "source": [
    "plt.imshow(autoencoderModel.predict(noise_sample.reshape(-1,28,28,1))[0],cmap=\"gray\")"
   ]
  },
  {
   "cell_type": "code",
   "execution_count": 53,
   "metadata": {},
   "outputs": [
    {
     "data": {
      "image/png": "[encoded data removed]",
      "text/plain": [
       "<Figure size 432x288 with 1 Axes>"
      ]
     },
     "metadata": {
      "needs_background": "light"
     },
     "output_type": "display_data"
    },
    {
     "data": {
      "image/png": "[encoded data removed]",
      "text/plain": [
       "<Figure size 432x288 with 1 Axes>"
      ]
     },
     "metadata": {
      "needs_background": "light"
     },
     "output_type": "display_data"
    },
    {
     "data": {
      "image/png": "[encoded data removed]",
      "text/plain": [
       "<Figure size 432x288 with 1 Axes>"
      ]
     },
     "metadata": {
      "needs_background": "light"
     },
     "output_type": "display_data"
    },
    {
     "data": {
      "image/png": "[encoded data removed]",
      "text/plain": [
       "<Figure size 432x288 with 1 Axes>"
      ]
     },
     "metadata": {
      "needs_background": "light"
     },
     "output_type": "display_data"
    },
    {
     "data": {
      "image/png": "[encoded data removed]",
      "text/plain": [
       "<Figure size 432x288 with 1 Axes>"
      ]
     },
     "metadata": {
      "needs_background": "light"
     },
     "output_type": "display_data"
    }
   ],
   "source": [
    "for i in range (5):\r\n",
    "\tplt.imshow(autoencoderModel.predict(np.random.normal(size=784).reshape(-1,28,28,1))[0])\r\n",
    "\tplt.show()"
   ]
  },
  {
   "cell_type": "code",
   "execution_count": 90,
   "metadata": {},
   "outputs": [],
   "source": [
    "def AutoEncoderCNN():\r\n",
    "\t\tEPOCHS = 10\r\n",
    "\r\n",
    "\t\tencoder_input = tf.keras.layers.Input(shape=(28,28,1), name=\"encoder_input\")\r\n",
    "\t\tlayer = tf.keras.layers.Conv2D(64, (3,3), activation=tf.nn.relu, padding=\"SAME\")(encoder_input)\r\n",
    "\t\tlayer = tf.keras.layers.MaxPool2D((2,2),padding=\"SAME\")(layer)\r\n",
    "\t\tlayer = tf.keras.layers.Conv2D(64, (3,3), activation=tf.nn.relu, padding=\"SAME\")(layer)\r\n",
    "\t\tlayer = tf.keras.layers.MaxPool2D( (2,2) ,padding=\"SAME\")(layer)\r\n",
    "\t\tlayer = tf.keras.layers.Flatten()(layer)\r\n",
    "\t\tencoder_output = tf.keras.layers.Dense(512,activation=tf.nn.relu)(layer)\r\n",
    "\r\n",
    "\t\tencoder = tf.keras.Model(encoder_input, encoder_output,name=\"encoder\")\r\n",
    "\r\n",
    "\t\tdecoder_input =tf.keras.layers.Dense(1024, activation= tf.nn.relu)(encoder_output)\r\n",
    "\r\n",
    "\t\tlayer = tf.keras.layers.Reshape((8,8,16))(decoder_input)\r\n",
    "\t\tlayer = tf.keras.layers.Conv2D(32, (3,3),activation=tf.nn.relu,padding=\"SAME\")(layer)\r\n",
    "\t\tlayer = tf.keras.layers.MaxPool2D((2,2))(layer)\r\n",
    "\t\tlayer = tf.keras.layers.Conv2D(32, (3,3),activation=tf.nn.relu,padding=\"SAME\")(layer)\r\n",
    "\t\tlayer = tf.keras.layers.MaxPool2D((2,2))(layer)\t\t\r\n",
    "\t\tlayer = tf.keras.layers.Flatten()(layer)\r\n",
    "\t\tlayer = tf.keras.layers.Dense(784,activation=tf.nn.relu)(layer)\r\n",
    "\t\tdecoder_output = tf.keras.layers.Reshape((28,28,1))(layer)\r\n",
    "\r\n",
    "\t\tautoEncoder = tf.keras.Model(encoder_input,decoder_output)\r\n",
    "\r\n",
    "\t\tautoEncoder.compile(optimizer=tf.keras.optimizers.Adam(0.001),loss=\"mse\")\r\n",
    "\r\n",
    "\t\treturn autoEncoder\r\n",
    "\r\n",
    "autoEncoderCnn = AutoEncoderCNN()\r\n"
   ]
  },
  {
   "cell_type": "code",
   "execution_count": 92,
   "metadata": {},
   "outputs": [
    {
     "name": "stdout",
     "output_type": "stream",
     "text": [
      "Train on 60000 samples\n",
      "Epoch 1/5\n",
      "60000/60000 [==============================] - 94s 2ms/sample - loss: 1789.1805\n",
      "Epoch 2/5\n",
      "60000/60000 [==============================] - 94s 2ms/sample - loss: 1387.1336\n",
      "Epoch 3/5\n",
      "60000/60000 [==============================] - 91s 2ms/sample - loss: 1311.2147\n",
      "Epoch 4/5\n",
      "60000/60000 [==============================] - 95s 2ms/sample - loss: 1273.3587\n",
      "Epoch 5/5\n",
      "60000/60000 [==============================] - 92s 2ms/sample - loss: 1248.5224\n"
     ]
    },
    {
     "data": {
      "text/plain": [
       "<tensorflow.python.keras.callbacks.History at 0x28aa776f7b8>"
      ]
     },
     "execution_count": 92,
     "metadata": {},
     "output_type": "execute_result"
    }
   ],
   "source": [
    "autoEncoderCnn.fit(x_train.reshape(len(x_train),28,28,1),x_train,batch_size=64,epochs=5)"
   ]
  },
  {
   "cell_type": "code",
   "execution_count": 96,
   "metadata": {},
   "outputs": [
    {
     "data": {
      "text/plain": [
       "<matplotlib.image.AxesImage at 0x28aa77e8198>"
      ]
     },
     "execution_count": 96,
     "metadata": {},
     "output_type": "execute_result"
    },
    {
     "data": {
      "image/png": "[encoded data removed]",
      "text/plain": [
       "<Figure size 432x288 with 1 Axes>"
      ]
     },
     "metadata": {
      "needs_background": "light"
     },
     "output_type": "display_data"
    }
   ],
   "source": [
    "plt.imshow(autoEncoderCnn.predict(x_test[50].reshape(-1,28,28,1))[0],cmap=\"gray\")"
   ]
  },
  {
   "cell_type": "code",
   "execution_count": null,
   "metadata": {},
   "outputs": [],
   "source": []
  },
  {
   "cell_type": "code",
   "execution_count": null,
   "metadata": {},
   "outputs": [],
   "source": []
  }
 ],
 "metadata": {
  "interpreter": {
   "hash": "81e8d6ec8b128683c3ce30ee758ecb536232cfad698fab650870c6728bfc659d"
  },
  "kernelspec": {
   "display_name": "Python 3.6.12 64-bit ('DataScience': conda)",
   "name": "python3"
  },
  "language_info": {
   "codemirror_mode": {
    "name": "ipython",
    "version": 3
   },
   "file_extension": ".py",
   "mimetype": "text/x-python",
   "name": "python",
   "nbconvert_exporter": "python",
   "pygments_lexer": "ipython3",
   "version": "3.6.12"
  },
  "orig_nbformat": 4
 },
 "nbformat": 4,
 "nbformat_minor": 2
}